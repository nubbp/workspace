{
 "cells": [
  {
   "cell_type": "code",
   "execution_count": 2,
   "metadata": {},
   "outputs": [
    {
     "name": "stdout",
     "output_type": "stream",
     "text": [
      "5보다 같거나 작음\n"
     ]
    }
   ],
   "source": [
    "# 파이썬은 세미콜론 X\n",
    "# 파이썬은 중괄호도 X\n",
    "num = 5\n",
    "if num > 10 :\n",
    "   print(\"10보다 큼\")\n",
    "elif num > 5 :\n",
    "   print(\"5보다 큼\")\n",
    "else :\n",
    "   print(\"5보다 같거나 작음\")"
   ]
  },
  {
   "cell_type": "code",
   "execution_count": 7,
   "metadata": {},
   "outputs": [
    {
     "name": "stdout",
     "output_type": "stream",
     "text": [
      "1\n"
     ]
    }
   ],
   "source": [
    "# 조건문의 영역은 어디까지?\n",
    "# 파이썬은 모든 문법의 영역을 들여쓰기로 판단\n",
    "if 10 < 5 :\n",
    "   print(1)\n",
    "   print(1)\n",
    "print(1)"
   ]
  },
  {
   "cell_type": "code",
   "execution_count": 9,
   "metadata": {},
   "outputs": [
    {
     "name": "stdout",
     "output_type": "stream",
     "text": [
      "5\n"
     ]
    }
   ],
   "source": [
    "# 키보드로 두 정수를 입력받아 두 정수 중 큰 수를 출력\n",
    "num1 = int(input(\"정수 1 입력 :\"))\n",
    "num2 = int(input(\"정수 2 입력 :\"))\n",
    "\n",
    "if num1 >= num2 :\n",
    "   print(num1)\n",
    "else :\n",
    "   print(num2)"
   ]
  },
  {
   "cell_type": "code",
   "execution_count": null,
   "metadata": {},
   "outputs": [],
   "source": []
  },
  {
   "cell_type": "code",
   "execution_count": null,
   "metadata": {},
   "outputs": [],
   "source": []
  }
 ],
 "metadata": {
  "kernelspec": {
   "display_name": "Python 3",
   "language": "python",
   "name": "python3"
  },
  "language_info": {
   "codemirror_mode": {
    "name": "ipython",
    "version": 3
   },
   "file_extension": ".py",
   "mimetype": "text/x-python",
   "name": "python",
   "nbconvert_exporter": "python",
   "pygments_lexer": "ipython3",
   "version": "3.12.5"
  }
 },
 "nbformat": 4,
 "nbformat_minor": 2
}
