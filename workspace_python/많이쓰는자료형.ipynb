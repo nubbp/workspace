{
 "cells": [
  {
   "cell_type": "code",
   "execution_count": null,
   "metadata": {},
   "outputs": [],
   "source": [
    "# 자바 - 리스트, 배열 / 자바스크립트 - 배열\n",
    "# 파이썬 - 리스트\n",
    "\n",
    "# 자바 = 클래스 / 자바스크립트 - 객체\n",
    "# 파이썬 - 딕셔너리"
   ]
  },
  {
   "cell_type": "code",
   "execution_count": 2,
   "metadata": {},
   "outputs": [
    {
     "name": "stdout",
     "output_type": "stream",
     "text": [
      "[1, 1.5, 'python']\n",
      "1.5\n"
     ]
    }
   ],
   "source": [
    "# 리스트\n",
    "# 주의사항 : 변수명으로 list 사용 금지\n",
    "list1 = [1, 2, 3]\n",
    "list2 = [1, 1.5, 'python']\n",
    "\n",
    "print(list2)\n",
    "print(list2[1])"
   ]
  },
  {
   "cell_type": "code",
   "execution_count": 11,
   "metadata": {},
   "outputs": [
    {
     "name": "stdout",
     "output_type": "stream",
     "text": [
      "{'stuNum': 1, 'name': '홍길동', 'score': 80}\n",
      "홍길동\n"
     ]
    }
   ],
   "source": [
    "# 딕셔너리\n",
    "student = {\n",
    "   'stuNum' : 1,\n",
    "   'name' : '홍길동',\n",
    "   'score' : 80\n",
    "}\n",
    "print(student)\n",
    "print(student['name'])"
   ]
  }
 ],
 "metadata": {
  "kernelspec": {
   "display_name": "Python 3",
   "language": "python",
   "name": "python3"
  },
  "language_info": {
   "codemirror_mode": {
    "name": "ipython",
    "version": 3
   },
   "file_extension": ".py",
   "mimetype": "text/x-python",
   "name": "python",
   "nbconvert_exporter": "python",
   "pygments_lexer": "ipython3",
   "version": "3.12.5"
  }
 },
 "nbformat": 4,
 "nbformat_minor": 2
}
