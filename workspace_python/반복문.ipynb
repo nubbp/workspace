{
 "cells": [
  {
   "cell_type": "code",
   "execution_count": 1,
   "metadata": {},
   "outputs": [
    {
     "name": "stdout",
     "output_type": "stream",
     "text": [
      "1\n",
      "2\n",
      "3\n"
     ]
    }
   ],
   "source": [
    "# 파이썬은 for-each문만 있음\n",
    "for i in [1, 2, 3] : \n",
    "   print(i)"
   ]
  },
  {
   "cell_type": "code",
   "execution_count": 2,
   "metadata": {},
   "outputs": [
    {
     "name": "stdout",
     "output_type": "stream",
     "text": [
      "1\n",
      "2\n",
      "3\n",
      "4\n",
      "5\n"
     ]
    }
   ],
   "source": [
    "numList = [1, 2, 3, 4, 5]\n",
    "for i in numList :\n",
    "   print(i)"
   ]
  },
  {
   "cell_type": "code",
   "execution_count": 6,
   "metadata": {},
   "outputs": [
    {
     "name": "stdout",
     "output_type": "stream",
     "text": [
      "1\n",
      "2\n",
      "3\n",
      "4\n",
      "----------\n",
      "3번 반복할 것\n",
      "3번 반복할 것\n",
      "3번 반복할 것\n"
     ]
    }
   ],
   "source": [
    "# range(a, b) : a부터 b 이전까지 1씩 증가되는 숫자의 나열\n",
    "# range(1, 5) : 1, 2, 3, 4\n",
    "# range(5) : 첫번째 매개변수를 0으로 지정 -> 0, 1, 2, 3, 4\n",
    "for i in range(1, 5) :\n",
    "   print(i)\n",
    "print('----------')\n",
    "for i in range(3) : \n",
    "   print(\"3번 반복할 것\")"
   ]
  },
  {
   "cell_type": "code",
   "execution_count": 15,
   "metadata": {},
   "outputs": [
    {
     "name": "stdout",
     "output_type": "stream",
     "text": [
      "짝수의 개수: 5개\n"
     ]
    }
   ],
   "source": [
    "# 1. 1~10까지의 정수 중 짝수의 개수 출력\n",
    "cnt = 0\n",
    "for i in range(1, 11) :\n",
    "   if(i % 2 == 0): \n",
    "      cnt = cnt + 1\n",
    "\n",
    "print(f'짝수의 개수: {cnt}개')"
   ]
  },
  {
   "cell_type": "code",
   "execution_count": 17,
   "metadata": {},
   "outputs": [
    {
     "name": "stdout",
     "output_type": "stream",
     "text": [
      "3\n",
      "6\n",
      "9\n",
      "12\n",
      "15\n",
      "18\n",
      "3의 배수의 개수: 6개\n"
     ]
    }
   ],
   "source": [
    "# 2. 1~20까지의 정수 중 3의 배수의 갯수를 출력하고, 3의 배수도 모두 출력\n",
    "cnt = 0\n",
    "for i in range(1, 21) :\n",
    "   if(i % 3 == 0) :\n",
    "      cnt += 1\n",
    "      print(i)\n",
    "\n",
    "print(f'3의 배수의 개수: {cnt}개')"
   ]
  },
  {
   "cell_type": "code",
   "execution_count": 18,
   "metadata": {},
   "outputs": [
    {
     "name": "stdout",
     "output_type": "stream",
     "text": [
      "1부터 5까지의 합: 9\n"
     ]
    }
   ],
   "source": [
    "# 3. 키보드로 입력받은 두 정수 사이(입력받은 정수는 미포함)의 모든 수의 합 출력\n",
    "num1 = int(input('정수 1 : '))\n",
    "num2 = int(input('정수 2 : '))\n",
    "max = 0\n",
    "min = 0\n",
    "\n",
    "# 자바   : 조건 ? 참일 때 값: 거짓일 때 값\n",
    "# 파이썬 : 참일 때 값 if 조건 else 거짓일 때 값\n",
    "max = num1 if num1 >= num2 else num2\n",
    "min = num2 if num1 >= num2 else num1\n",
    "\n",
    "sum = 0\n",
    "for i in range(min+1, max) :\n",
    "   sum += i\n",
    "   \n",
    "print(f'{min}부터 {max}까지의 합: {sum}')"
   ]
  },
  {
   "cell_type": "code",
   "execution_count": 19,
   "metadata": {},
   "outputs": [
    {
     "name": "stdout",
     "output_type": "stream",
     "text": [
      "포함\n",
      "포함\n"
     ]
    }
   ],
   "source": [
    "# 4. 아래에 제시한 data에서 5가 포함되어 있는지 판단하고 5가 포함되어 있으면 '포함' 출력\n",
    "data = [1, 3, 5, 7, 9]\n",
    "\n",
    "for i in data :\n",
    "   if(i == 5) :\n",
    "      print('포함')\n",
    "\n",
    "if 5 in data:\n",
    "   print('포함')"
   ]
  }
 ],
 "metadata": {
  "kernelspec": {
   "display_name": "Python 3",
   "language": "python",
   "name": "python3"
  },
  "language_info": {
   "codemirror_mode": {
    "name": "ipython",
    "version": 3
   },
   "file_extension": ".py",
   "mimetype": "text/x-python",
   "name": "python",
   "nbconvert_exporter": "python",
   "pygments_lexer": "ipython3",
   "version": "3.12.5"
  }
 },
 "nbformat": 4,
 "nbformat_minor": 2
}
