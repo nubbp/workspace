{
 "cells": [
  {
   "cell_type": "code",
   "execution_count": 4,
   "metadata": {},
   "outputs": [
    {
     "name": "stdout",
     "output_type": "stream",
     "text": [
      "입력받은 수는 333입니다\n"
     ]
    }
   ],
   "source": [
    "# 키보드로 입력받기\n",
    "# input() 함수 사용으로 키보드로 값을 입력받을 수 있다\n",
    "# input() 함수를 사용하여 키보드로 입력받은 값은 문자열로 인식\n",
    "# 문자열 -> 정수 : int()\n",
    "\n",
    "num = input('숫자를 입력하세요 :')\n",
    "print(f'입력받은 수는 {num}입니다')"
   ]
  },
  {
   "cell_type": "code",
   "execution_count": 9,
   "metadata": {},
   "outputs": [
    {
     "name": "stdout",
     "output_type": "stream",
     "text": [
      "110\n"
     ]
    }
   ],
   "source": [
    "# 문자열을 정수로 변환\n",
    "result1 = int('10')\n",
    "result2 = int('100')\n",
    "print(result1 + result2)"
   ]
  },
  {
   "cell_type": "code",
   "execution_count": 11,
   "metadata": {},
   "outputs": [
    {
     "name": "stdout",
     "output_type": "stream",
     "text": [
      "3 + 5 = 8\n"
     ]
    }
   ],
   "source": [
    "# 두 정수를 입력받아 두 정수의 합을 출력\n",
    "num1 = int(input('숫자1 입력 :'))\n",
    "num2 = int(input('숫자2 입력 :'))\n",
    "print(f'{num1} + {num2} = {num1 + num2}')"
   ]
  },
  {
   "cell_type": "code",
   "execution_count": 17,
   "metadata": {},
   "outputs": [
    {
     "name": "stdout",
     "output_type": "stream",
     "text": [
      "홍길동의 국어점수: 50, 영어점수: 60, 수학점수 : 70\n",
      "총합 : 180\n",
      "평균 : 60.0\n"
     ]
    }
   ],
   "source": [
    "# 키보드로 학생의 이름, 나이, 국어점수, 영어점수, 수학점수를 입력\n",
    "# 입력받은 학생의 이름, 나이, 국어점수, 영어점수, 수학점의 및 총점과 평균 출력\n",
    "name = input('학생 이름 입력 : ')\n",
    "korScore = int(input('국어점수 입력 : '))\n",
    "engScore = int(input('영어점수 입력 : '))\n",
    "mathScore = int(input('수학점수 입력 : '))\n",
    "sum = korScore + engScore + mathScore\n",
    "                                          \n",
    "print(f'{name}의 국어점수: {korScore}, 영어점수: {engScore}, 수학점수 : {mathScore}')\n",
    "print(f'총합 : {sum}')\n",
    "print(f'평균 : {sum / 3}')"
   ]
  }
 ],
 "metadata": {
  "kernelspec": {
   "display_name": "Python 3",
   "language": "python",
   "name": "python3"
  },
  "language_info": {
   "codemirror_mode": {
    "name": "ipython",
    "version": 3
   },
   "file_extension": ".py",
   "mimetype": "text/x-python",
   "name": "python",
   "nbconvert_exporter": "python",
   "pygments_lexer": "ipython3",
   "version": "3.12.5"
  }
 },
 "nbformat": 4,
 "nbformat_minor": 2
}
